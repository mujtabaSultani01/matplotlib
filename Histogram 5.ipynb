{
 "cells": [
  {
   "cell_type": "markdown",
   "id": "368a6bed",
   "metadata": {},
   "source": [
    "## Histograms\n",
    "A **histogram** is a type of bar chart used in Matplotlib to display the distribution of numerical data. It is used to visualize the frequency of data points occurring within a given range of values. The bars of the histogram are used to illustrate the number of data points within a given range. Histograms are useful for exploring the underlying distribution of data, as well as highlighting any potential outliers. \n",
    "* See the following dataset, to answer the three questions, the best choice will be histogram:"
   ]
  },
  {
   "cell_type": "markdown",
   "id": "98579400",
   "metadata": {},
   "source": [
    "<img src = \"histograms.png\" width = \"600px\" height = \"600px\"></img>"
   ]
  },
  {
   "cell_type": "markdown",
   "id": "cb1d381a",
   "metadata": {},
   "source": [
    "* The answers to the question are:"
   ]
  },
  {
   "cell_type": "markdown",
   "id": "7cd21a11",
   "metadata": {},
   "source": [
    "<img src = \"histogram1.png\" width = \"800px\" height = \"800px\"></img>"
   ]
  },
  {
   "cell_type": "code",
   "execution_count": 2,
   "id": "02bc6b5f",
   "metadata": {},
   "outputs": [],
   "source": [
    "# Matplotlib library:\n",
    "from matplotlib import pyplot as plt\n",
    "%matplotlib inline"
   ]
  },
  {
   "cell_type": "code",
   "execution_count": 3,
   "id": "41ac39b9",
   "metadata": {},
   "outputs": [],
   "source": [
    "# We have a sample data of blood sugar level of different patients, we will try to plot number of patients by blood range \n",
    "# and try to figure out how many patients are normal, pre-diabetic and diabetic.\n",
    "\n",
    "blood_sugar = [113, 85, 90, 150, 149, 88, 93, 115, 135, 80, 77, 82, 129]"
   ]
  },
  {
   "cell_type": "code",
   "execution_count": 4,
   "id": "1ffdb2d0",
   "metadata": {},
   "outputs": [
    {
     "data": {
      "text/plain": [
       "(array([3., 3., 1., 0., 1., 1., 0., 2., 0., 2.]),\n",
       " array([ 77. ,  84.3,  91.6,  98.9, 106.2, 113.5, 120.8, 128.1, 135.4,\n",
       "        142.7, 150. ]),\n",
       " <BarContainer object of 10 artists>)"
      ]
     },
     "execution_count": 4,
     "metadata": {},
     "output_type": "execute_result"
    },
    {
     "data": {
      "image/png": "[encoded data removed]",
      "text/plain": [
       "<Figure size 432x288 with 1 Axes>"
      ]
     },
     "metadata": {
      "needs_background": "light"
     },
     "output_type": "display_data"
    }
   ],
   "source": [
    "# To plot histogram, we can call 'hist()' function and pass the array or the list. \n",
    "# rwidth argument keep the space between two bars (maximum value is 1).\n",
    "plt.hist(blood_sugar, rwidth=0.8)  # by default number of bins is set to 10"
   ]
  },
  {
   "cell_type": "code",
   "execution_count": 6,
   "id": "3515abfd",
   "metadata": {},
   "outputs": [
    {
     "data": {
      "text/plain": [
       "(array([6., 2., 4.]),\n",
       " array([ 80, 100, 125, 150]),\n",
       " <BarContainer object of 3 artists>)"
      ]
     },
     "execution_count": 6,
     "metadata": {},
     "output_type": "execute_result"
    },
    {
     "data": {
      "image/png": "[encoded data removed]",
      "text/plain": [
       "<Figure size 432x288 with 1 Axes>"
      ]
     },
     "metadata": {
      "needs_background": "light"
     },
     "output_type": "display_data"
    }
   ],
   "source": [
    "# we can define the number of bins and the range:\n",
    "plt.hist(blood_sugar, bins = [80, 100, 125, 150], rwidth=0.8)"
   ]
  },
  {
   "cell_type": "code",
   "execution_count": 8,
   "id": "1bfb25dc",
   "metadata": {},
   "outputs": [
    {
     "data": {
      "text/plain": [
       "(array([6., 2., 4.]),\n",
       " array([ 80, 100, 125, 150]),\n",
       " <BarContainer object of 3 artists>)"
      ]
     },
     "execution_count": 8,
     "metadata": {},
     "output_type": "execute_result"
    },
    {
     "data": {
      "image/png": "[encoded data removed]",
      "text/plain": [
       "<Figure size 432x288 with 1 Axes>"
      ]
     },
     "metadata": {
      "needs_background": "light"
     },
     "output_type": "display_data"
    }
   ],
   "source": [
    "# plt 'hist()' function have different parameters, you can check them. Let's change the color:\n",
    "plt.hist(blood_sugar, bins = [80, 100, 125, 150], rwidth=0.8, color = \"LightSeaGreen\")"
   ]
  },
  {
   "cell_type": "code",
   "execution_count": 10,
   "id": "8ba93244",
   "metadata": {},
   "outputs": [
    {
     "data": {
      "text/plain": [
       "(array([6., 2., 4.]),\n",
       " array([ 80, 100, 125, 150]),\n",
       " [<matplotlib.patches.Polygon at 0x29fc55153d0>])"
      ]
     },
     "execution_count": 10,
     "metadata": {},
     "output_type": "execute_result"
    },
    {
     "data": {
      "image/png": "[encoded data removed]",
      "text/plain": [
       "<Figure size 432x288 with 1 Axes>"
      ]
     },
     "metadata": {
      "needs_background": "light"
     },
     "output_type": "display_data"
    }
   ],
   "source": [
    "# You can choose the histigram type:\n",
    "plt.hist(blood_sugar, bins = [80, 100, 125, 150], rwidth=0.8, color = \"FireBrick\", histtype = \"step\")"
   ]
  },
  {
   "cell_type": "code",
   "execution_count": 15,
   "id": "a57aea72",
   "metadata": {},
   "outputs": [
    {
     "data": {
      "text/plain": [
       "(array([[6., 2., 4.],\n",
       "        [4., 4., 2.]]),\n",
       " array([ 80, 100, 125, 150]),\n",
       " <a list of 2 BarContainer objects>)"
      ]
     },
     "execution_count": 15,
     "metadata": {},
     "output_type": "execute_result"
    },
    {
     "data": {
      "image/png": "[encoded data removed]",
      "text/plain": [
       "<Figure size 432x288 with 1 Axes>"
      ]
     },
     "metadata": {
      "needs_background": "light"
     },
     "output_type": "display_data"
    }
   ],
   "source": [
    "# Now if we have two different samples. Let's have men and women blood sugur level in a different dataset. So we pass both \n",
    "# the lists as array in first argument, the other featurs such as color or label will also be passed as array.\n",
    "\n",
    "blood_sugar_men = [113, 85, 90, 150, 149, 88, 93, 115, 135, 80, 77, 82, 129]\n",
    "blood_sugar_women = [67, 98, 89, 120, 133, 150, 84, 69, 89, 79, 120, 112, 100]\n",
    "\n",
    "plt.hist([blood_sugar_men,blood_sugar_women], bins=[80,100,125,150], rwidth=0.95, color=['CadetBlue','DarkTurquoise'])"
   ]
  },
  {
   "cell_type": "code",
   "execution_count": 13,
   "id": "514511f5",
   "metadata": {},
   "outputs": [
    {
     "data": {
      "text/plain": [
       "<matplotlib.legend.Legend at 0x29fc55b3550>"
      ]
     },
     "execution_count": 13,
     "metadata": {},
     "output_type": "execute_result"
    },
    {
     "data": {
      "image/png": "[encoded data removed]",
      "text/plain": [
       "<Figure size 432x288 with 1 Axes>"
      ]
     },
     "metadata": {
      "needs_background": "light"
     },
     "output_type": "display_data"
    }
   ],
   "source": [
    "# To set labels to both the list, so:\n",
    "plt.xlabel(\"Sugar Level\")\n",
    "plt.ylabel(\"Number Of Patients\")\n",
    "plt.title(\"Blood Sugar Chart\")\n",
    "\n",
    "blood_sugar_men = [113, 85, 90, 150, 149, 88, 93, 115, 135, 80, 77, 82, 129]\n",
    "blood_sugar_women = [67, 98, 89, 120, 133, 150, 84, 69, 89, 79, 120, 112, 100]\n",
    "\n",
    "plt.hist([blood_sugar_men,blood_sugar_women], bins=[80,100,125,150], rwidth=0.95, color=['CadetBlue','DarkTurquoise'],label=['men','women'])\n",
    "plt.legend()"
   ]
  },
  {
   "cell_type": "code",
   "execution_count": null,
   "id": "3da23457",
   "metadata": {},
   "outputs": [],
   "source": [
    "# The other property is orientation to plot the histograms for horizontal fashion:\n"
   ]
  },
  {
   "cell_type": "code",
   "execution_count": null,
   "id": "0127d1cb",
   "metadata": {},
   "outputs": [],
   "source": []
  },
  {
   "cell_type": "code",
   "execution_count": null,
   "id": "f8e5bc28",
   "metadata": {},
   "outputs": [],
   "source": []
  }
 ],
 "metadata": {
  "kernelspec": {
   "display_name": "Python 3 (ipykernel)",
   "language": "python",
   "name": "python3"
  },
  "language_info": {
   "codemirror_mode": {
    "name": "ipython",
    "version": 3
   },
   "file_extension": ".py",
   "mimetype": "text/x-python",
   "name": "python",
   "nbconvert_exporter": "python",
   "pygments_lexer": "ipython3",
   "version": "3.9.12"
  }
 },
 "nbformat": 4,
 "nbformat_minor": 5
}
